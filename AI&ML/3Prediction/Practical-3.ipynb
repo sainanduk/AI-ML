{
 "cells": [
  {
   "cell_type": "code",
   "execution_count": 1,
   "id": "fdbcc063",
   "metadata": {},
   "outputs": [],
   "source": [
    "import pandas as pd\n",
    "from sklearn.model_selection import train_test_split\n",
    "from sklearn.linear_model import LinearRegression\n",
    "from sklearn.preprocessing import LabelEncoder\n",
    "import numpy as np"
   ]
  },
  {
   "cell_type": "code",
   "execution_count": 2,
   "id": "0daf1754",
   "metadata": {},
   "outputs": [],
   "source": [
    "# Create a dummy dataset\n",
    "data = {\n",
    "    'Weight': [70, 65, 80, 55, 72, 68, 63, 78, 75, 82],\n",
    "    'Height': [175, 168, 183, 160, 178, 172, 165, 180, 177, 185],\n",
    "    'Gender': ['Male', 'Female', 'Male', 'Female', 'Male', 'Female', 'Female', 'Male', 'Male', 'Female'],\n",
    "    'Age': [30, 25, 35, 22, 32, 28, 24, 34, 31, 36]\n",
    "}\n",
    "\n",
    "df = pd.DataFrame(data)"
   ]
  },
  {
   "cell_type": "code",
   "execution_count": 3,
   "id": "5563cdb0",
   "metadata": {},
   "outputs": [],
   "source": [
    "# Encode the 'Gender' column using Label Encoding\n",
    "le = LabelEncoder()\n",
    "df['Gender'] = le.fit_transform(df['Gender'])"
   ]
  },
  {
   "cell_type": "code",
   "execution_count": 4,
   "id": "58620cd1",
   "metadata": {},
   "outputs": [],
   "source": [
    "# Split the dataset into features (X) and target (y)\n",
    "X = df[['Weight', 'Height', 'Gender']]\n",
    "y = df['Age']"
   ]
  },
  {
   "cell_type": "code",
   "execution_count": 5,
   "id": "d50faf28",
   "metadata": {},
   "outputs": [],
   "source": [
    "# Split the data into training and testing sets\n",
    "X_train, X_test, y_train, y_test = train_test_split(X, y, test_size=0.2, random_state=42)"
   ]
  },
  {
   "cell_type": "code",
   "execution_count": 6,
   "id": "fc2734a0",
   "metadata": {},
   "outputs": [
    {
     "name": "stdout",
     "output_type": "stream",
     "text": [
      "Enter weight (kg): 78\n",
      "Enter height (cm): 176\n",
      "Enter gender (Male/Female): Male\n",
      "Predicted Age: 31.50 years\n"
     ]
    },
    {
     "name": "stderr",
     "output_type": "stream",
     "text": [
      "C:\\Users\\HP\\anaconda3\\lib\\site-packages\\sklearn\\base.py:420: UserWarning: X does not have valid feature names, but LinearRegression was fitted with feature names\n",
      "  warnings.warn(\n"
     ]
    }
   ],
   "source": [
    "# Create and train a linear regression model\n",
    "model = LinearRegression()\n",
    "model.fit(X_train, y_train)\n",
    "\n",
    "# Function to take user input and make predictions\n",
    "def predict_age():\n",
    "    weight = float(input(\"Enter weight (kg): \"))\n",
    "    height = int(input(\"Enter height (cm): \"))\n",
    "    gender = input(\"Enter gender (Male/Female): \")\n",
    "    \n",
    "    # Encode the gender input\n",
    "    gender_encoded = le.transform([gender])[0]\n",
    "\n",
    "    # Create a feature array from the user input\n",
    "    user_data = np.array([[weight, height, gender_encoded]])\n",
    "\n",
    "    # Make a prediction\n",
    "    predicted_age = model.predict(user_data)[0]\n",
    "    print(f\"Predicted Age: {predicted_age:.2f} years\")\n",
    "\n",
    "# Predict age for user input\n",
    "predict_age()\n"
   ]
  },
  {
   "cell_type": "code",
   "execution_count": 10,
   "id": "0e46f75b",
   "metadata": {},
   "outputs": [
    {
     "name": "stdout",
     "output_type": "stream",
     "text": [
      "Enter weight (kg): 40\n",
      "Enter height (cm): 150\n",
      "Enter gender (Male/Female): Male\n",
      "Predicted Age: 15.73 years\n"
     ]
    },
    {
     "name": "stderr",
     "output_type": "stream",
     "text": [
      "C:\\Users\\ashrith\\anaconda3\\lib\\site-packages\\sklearn\\base.py:420: UserWarning: X does not have valid feature names, but LinearRegression was fitted with feature names\n",
      "  warnings.warn(\n"
     ]
    }
   ],
   "source": [
    "import pandas as pd\n",
    "from sklearn.model_selection import train_test_split\n",
    "from sklearn.linear_model import LinearRegression\n",
    "from sklearn.preprocessing import LabelEncoder\n",
    "import numpy as np\n",
    " \n",
    "data = {\n",
    "    'Weight': [70, 65, 80, 55, 72, 68, 63, 78, 75, 82],\n",
    "    'Height': [175, 168, 183, 160, 178, 172, 165, 180, 177, 185],\n",
    "    'Gender': ['Male', 'Female', 'Male', 'Female', 'Male', 'Female', 'Female', 'Male', 'Male', 'Female'],\n",
    "    'Age': [30, 25, 35, 22, 32, 28, 24, 34, 31, 36]\n",
    "}\n",
    "\n",
    "df = pd.DataFrame(data)\n",
    "le = LabelEncoder()\n",
    "df['Gender'] = le.fit_transform(df['Gender'])\n",
    "X = df[['Weight', 'Height', 'Gender']]\n",
    "y = df['Age']\n",
    "X_train, X_test, y_train, y_test = train_test_split(X, y, test_size=0.2, random_state=42)\n",
    "model = LinearRegression()\n",
    "model.fit(X_train, y_train)\n",
    "def predict_age():\n",
    "    weight = float(input(\"Enter weight (kg): \"))\n",
    "    height = int(input(\"Enter height (cm): \"))\n",
    "    gender = input(\"Enter gender (Male/Female): \")\n",
    "    gender_encoded = le.transform([gender])[0]\n",
    "    user_data = np.array([[weight, height, gender_encoded]])\n",
    "    predicted_age = model.predict(user_data)[0]\n",
    "    print(f\"Predicted Age: {predicted_age:.2f} years\")\n",
    "    \n",
    "predict_age()\n",
    "    "
   ]
  },
  {
   "cell_type": "code",
   "execution_count": null,
   "id": "0659c9e1",
   "metadata": {},
   "outputs": [],
   "source": []
  }
 ],
 "metadata": {
  "kernelspec": {
   "display_name": "Python 3 (ipykernel)",
   "language": "python",
   "name": "python3"
  },
  "language_info": {
   "codemirror_mode": {
    "name": "ipython",
    "version": 3
   },
   "file_extension": ".py",
   "mimetype": "text/x-python",
   "name": "python",
   "nbconvert_exporter": "python",
   "pygments_lexer": "ipython3",
   "version": "3.10.9"
  }
 },
 "nbformat": 4,
 "nbformat_minor": 5
}
