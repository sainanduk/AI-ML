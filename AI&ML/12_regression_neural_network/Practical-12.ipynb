{
 "cells": [
  {
   "cell_type": "code",
   "execution_count": null,
   "id": "e9dbda6a",
   "metadata": {
    "id": "e9dbda6a"
   },
   "outputs": [],
   "source": [
    "import numpy as np\n",
    "import matplotlib.pyplot as plt\n",
    "from keras.models import Sequential\n",
    "from keras.layers import Dense"
   ]
  },
  {
   "cell_type": "code",
   "execution_count": null,
   "id": "fe21dd22",
   "metadata": {
    "id": "fe21dd22"
   },
   "outputs": [],
   "source": [
    "# Create a dummy dataset\n",
    "np.random.seed(0) # generates same random numbers\n",
    "X = np.linspace(0, 10, 100)  # Independent variable, generate 100 evenly spaced values between 0 and 10\n",
    "y = 2 * X + 1 + np.random.normal(0, 2, 100)  # Dependent variable with noise"
   ]
  },
  {
   "cell_type": "code",
   "execution_count": null,
   "id": "585d7bdc",
   "metadata": {
    "id": "585d7bdc"
   },
   "outputs": [],
   "source": [
    "\n",
    "# Split the dataset into training and testing sets\n",
    "X_train, y_train = X[:80], y[:80]\n",
    "X_test, y_test = X[80:], y[80:]"
   ]
  },
  {
   "cell_type": "code",
   "execution_count": null,
   "id": "c296573c",
   "metadata": {
    "id": "c296573c"
   },
   "outputs": [],
   "source": [
    "# Build a regression neural network\n",
    "model = Sequential()\n",
    "model.add(Dense(1, input_dim=1, activation='linear'))  # Single input and output neuron\n"
   ]
  },
  {
   "cell_type": "code",
   "execution_count": null,
   "id": "a9e10055",
   "metadata": {
    "id": "a9e10055"
   },
   "outputs": [],
   "source": [
    "\n",
    "# Compile the model\n",
    "model.compile(loss='mean_squared_error', optimizer='adam')\n",
    "# adam: adjust the parameters (e.g., weights and biases) of a model during training to minimize the error"
   ]
  },
  {
   "cell_type": "code",
   "execution_count": null,
   "id": "310d05cf",
   "metadata": {
    "colab": {
     "base_uri": "https://localhost:8080/"
    },
    "executionInfo": {
     "elapsed": 44891,
     "status": "ok",
     "timestamp": 1695661314443,
     "user": {
      "displayName": "Dr. Meghana Ghogare",
      "userId": "12273226003306179712"
     },
     "user_tz": -330
    },
    "id": "310d05cf",
    "outputId": "6f34292e-de75-4869-bbef-0d232c18ec38"
   },
   "outputs": [
    {
     "data": {
      "text/plain": [
       "<keras.src.callbacks.History at 0x7d1cc82ddf90>"
      ]
     },
     "execution_count": 6,
     "metadata": {},
     "output_type": "execute_result"
    }
   ],
   "source": [
    "# Train the model\n",
    "model.fit(X_train, y_train, epochs=1000, verbose=0)\n",
    "# verbose=0: no training progress or logs will be displayed during the training process. It runs in silent mode,"
   ]
  },
  {
   "cell_type": "code",
   "execution_count": null,
   "id": "93e3c7a6",
   "metadata": {
    "colab": {
     "base_uri": "https://localhost:8080/"
    },
    "executionInfo": {
     "elapsed": 6,
     "status": "ok",
     "timestamp": 1695661314444,
     "user": {
      "displayName": "Dr. Meghana Ghogare",
      "userId": "12273226003306179712"
     },
     "user_tz": -330
    },
    "id": "93e3c7a6",
    "outputId": "0d476998-3a15-4280-9cef-336cd9469822"
   },
   "outputs": [
    {
     "name": "stdout",
     "output_type": "stream",
     "text": [
      "1/1 [==============================] - 0s 217ms/step\n"
     ]
    }
   ],
   "source": [
    "\n",
    "# Make predictions on the test set\n",
    "y_pred = model.predict(X_test)"
   ]
  },
  {
   "cell_type": "code",
   "execution_count": null,
   "id": "816ae3f7",
   "metadata": {
    "id": "816ae3f7"
   },
   "outputs": [],
   "source": []
  },
  {
   "cell_type": "code",
   "execution_count": null,
   "id": "0a464b31",
   "metadata": {
    "colab": {
     "base_uri": "https://localhost:8080/",
     "height": 472
    },
    "executionInfo": {
     "elapsed": 1316,
     "status": "ok",
     "timestamp": 1695661323267,
     "user": {
      "displayName": "Dr. Meghana Ghogare",
      "userId": "12273226003306179712"
     },
     "user_tz": -330
    },
    "id": "0a464b31",
    "outputId": "4b6eb38c-4aac-4ef8-e5bc-ded8d5d80d4e"
   },
   "outputs": [
    {
     "data": {
      "image/png": "[encoded data removed]",
      "text/plain": [
       "<Figure size 640x480 with 1 Axes>"
      ]
     },
     "metadata": {},
     "output_type": "display_data"
    }
   ],
   "source": [
    "# Plot the results\n",
    "plt.scatter(X_test, y_test, label='Actual Data')\n",
    "plt.plot(X_test, y_pred, color='red', linewidth=2, label='Regression Line')\n",
    "plt.xlabel('X')\n",
    "plt.ylabel('y')\n",
    "plt.title('Regression Neural Network')\n",
    "plt.legend()\n",
    "plt.show()\n"
   ]
  },
  {
   "cell_type": "code",
   "execution_count": 26,
   "id": "12941c65",
   "metadata": {},
   "outputs": [
    {
     "ename": "IndentationError",
     "evalue": "unindent does not match any outer indentation level (<tokenize>, line 8)",
     "output_type": "error",
     "traceback": [
      "\u001b[1;36m  File \u001b[1;32m<tokenize>:8\u001b[1;36m\u001b[0m\n\u001b[1;33m    X = np.linspace(0, 10, 100)\u001b[0m\n\u001b[1;37m    ^\u001b[0m\n\u001b[1;31mIndentationError\u001b[0m\u001b[1;31m:\u001b[0m unindent does not match any outer indentation level\n"
     ]
    }
   ],
   "source": [
    "  "
   ]
  },
  {
   "cell_type": "code",
   "execution_count": null,
   "id": "549febbc",
   "metadata": {},
   "outputs": [],
   "source": []
  }
 ],
 "metadata": {
  "colab": {
   "provenance": []
  },
  "kernelspec": {
   "display_name": "Python 3 (ipykernel)",
   "language": "python",
   "name": "python3"
  },
  "language_info": {
   "codemirror_mode": {
    "name": "ipython",
    "version": 3
   },
   "file_extension": ".py",
   "mimetype": "text/x-python",
   "name": "python",
   "nbconvert_exporter": "python",
   "pygments_lexer": "ipython3",
   "version": "3.10.9"
  }
 },
 "nbformat": 4,
 "nbformat_minor": 5
}
