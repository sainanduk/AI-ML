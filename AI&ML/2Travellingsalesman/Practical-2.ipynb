{
 "cells": [
  {
   "cell_type": "code",
   "execution_count": 1,
   "id": "f9b1dc98",
   "metadata": {},
   "outputs": [
    {
     "name": "stdout",
     "output_type": "stream",
     "text": [
      "Shortest Route: (0, 2, 1, 3, 4)\n",
      "Shortest Distance: 26\n"
     ]
    }
   ],
   "source": [
    "#provides functions for efficient iteration and combination generation.\n",
    "import itertools\n",
    "\n",
    "'''takes two city indices as input and returns the distance between them. In this example,\n",
    "the distances are hardcoded as a 2D list. You can modify this list to represent the distances\n",
    "between the actual cities you are working with.'''\n",
    "def calculate_distance(city1, city2):\n",
    "    # Define the distances between cities (can be a matrix for larger instances)\n",
    "    distances = [\n",
    "        [0, 10, 8, 12, 6],\n",
    "        [10, 0, 5, 4, 11],\n",
    "        [8, 5, 0, 7, 9],\n",
    "        [12, 4, 7, 0, 3],\n",
    "        [6, 11, 9, 3, 0]\n",
    "    ]\n",
    "    return distances[city1][city2]\n",
    "\n",
    "def tsp(cities):\n",
    "    shortest_route = None\n",
    "    shortest_distance = float('inf') # initial value for shortest_distance as infinity.\n",
    "    \n",
    "    # Generate all possible permutations of cities using the permutations function\n",
    "    # from itertools. It converts the resulting permutations into a list.\n",
    "    permutations = list(itertools.permutations(cities))\n",
    "    \n",
    "    # Iterate through each permutation of the cities and initializes\n",
    "    # the total_distance variable to 0 for each route.\n",
    "    for route in permutations:\n",
    "        total_distance = 0\n",
    "        \n",
    "        # Calculate the total distance of the route\n",
    "        '''This nested loop calculates the total distance for a given route by \n",
    "        iterating through each pair of consecutive cities. It calls the calculate_distance\n",
    "        function to determine the distance between each pair and adds it to the total_distance.'''\n",
    "        for i in range(len(route) - 1):\n",
    "            city1 = route[i]\n",
    "            city2 = route[i+1]\n",
    "            total_distance += calculate_distance(city1, city2)\n",
    "        \n",
    "        # Add the distance from the last city back to the starting city\n",
    "        total_distance += calculate_distance(route[-1], route[0])\n",
    "        \n",
    "        # Update the shortest distance and route if necessary\n",
    "        '''This block of code checks if the current total_distance is\n",
    "        shorter than the shortest_distance found so far. If it is, it \n",
    "        updates the shortest_distance and shortest_route accordingly.'''\n",
    "        if total_distance < shortest_distance:\n",
    "            shortest_distance = total_distance\n",
    "            shortest_route = route\n",
    "    \n",
    "    return shortest_route, shortest_distance # This line returns the shortest\n",
    "#route and its corresponding distance as the output of the tsp function.\n",
    "\n",
    "# Define the list of cities (represented by indices)\n",
    "cities = [0, 1, 2, 3, 4]\n",
    "\n",
    "# Solve the TSP\n",
    "'''calls the tsp function with the list of cities and assigns the returned \n",
    "shortest route and distance to the variables shortest_route and shortest_distance, respectively.'''\n",
    "shortest_route, shortest_distance = tsp(cities)\n",
    "\n",
    "# Display the results\n",
    "print(\"Shortest Route:\", shortest_route)\n",
    "print(\"Shortest Distance:\", shortest_distance)\n"
   ]
  },
  {
   "cell_type": "code",
   "execution_count": 12,
   "id": "7c2731a0",
   "metadata": {},
   "outputs": [
    {
     "name": "stdout",
     "output_type": "stream",
     "text": [
      "Shortest Route: (0, 2, 1, 3, 4)\n",
      "Shortest Distance: 26\n"
     ]
    }
   ],
   "source": [
    "import itertools\n",
    "def calculate_distance(city1, city2):\n",
    "    distances = [\n",
    "        [0, 10, 8, 12, 6],\n",
    "        [10, 0, 5, 4, 11],\n",
    "        [8, 5, 0, 7, 9],\n",
    "        [12, 4, 7, 0, 3],\n",
    "        [6, 11, 9, 3, 0]\n",
    "    ]\n",
    "    return distances[city1][city2]\n",
    "\n",
    "def tsp(cities):\n",
    "    shortest_route = None\n",
    "    shortest_distance = float('inf')\n",
    "    permutations = list(itertools.permutations(cities))\n",
    "    for route in permutations:\n",
    "        total_distance = 0\n",
    "        for i in range(len(route) - 1):\n",
    "            city1 = route[i]\n",
    "            city2 = route[i+1]\n",
    "            total_distance += calculate_distance(city1, city2)\n",
    "            \n",
    "            total_distance += calculate_distance(route[-1], route[0])\n",
    "            if total_distance < shortest_distance:\n",
    "                shortest_distance = total_distance\n",
    "                shortest_route = route\n",
    "             \n",
    "            return shortest_route, shortest_distance\n",
    "            cities = [0, 1, 2, 3, 4]\n",
    "            shortest_route, shortest_distance = tsp(cities)\n",
    "print(\"Shortest Route:\", shortest_route)\n",
    "print(\"Shortest Distance:\", shortest_distance)\n"
   ]
  },
  {
   "cell_type": "code",
   "execution_count": null,
   "id": "81f5e85c",
   "metadata": {},
   "outputs": [],
   "source": []
  }
 ],
 "metadata": {
  "kernelspec": {
   "display_name": "Python 3 (ipykernel)",
   "language": "python",
   "name": "python3"
  },
  "language_info": {
   "codemirror_mode": {
    "name": "ipython",
    "version": 3
   },
   "file_extension": ".py",
   "mimetype": "text/x-python",
   "name": "python",
   "nbconvert_exporter": "python",
   "pygments_lexer": "ipython3",
   "version": "3.10.9"
  }
 },
 "nbformat": 4,
 "nbformat_minor": 5
}
